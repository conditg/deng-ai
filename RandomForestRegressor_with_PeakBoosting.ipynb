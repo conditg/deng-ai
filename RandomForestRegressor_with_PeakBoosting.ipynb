{
 "cells": [
  {
   "cell_type": "markdown",
   "metadata": {},
   "source": [
    "## Imports and Data Loading"
   ]
  },
  {
   "cell_type": "code",
   "execution_count": 1,
   "metadata": {},
   "outputs": [],
   "source": [
    "import pandas as pd\n",
    "import matplotlib.pyplot as plt\n",
    "import seaborn as sns\n",
    "\n",
    "import numpy as np\n",
    "from scipy.integrate import cumtrapz\n",
    "\n",
    "from sklearn.model_selection import train_test_split, cross_val_score, GridSearchCV\n",
    "from sklearn.metrics import mean_absolute_error\n",
    "from sklearn.ensemble import RandomForestRegressor\n",
    "from sklearn.preprocessing import MinMaxScaler"
   ]
  },
  {
   "cell_type": "code",
   "execution_count": 2,
   "metadata": {},
   "outputs": [
    {
     "name": "stdout",
     "output_type": "stream",
     "text": [
      "(1456, 25)\n",
      "(416, 24)\n"
     ]
    }
   ],
   "source": [
    "#Train Data\n",
    "rawfeats = pd.read_csv('data/dengue_features_train.csv')\n",
    "rawlabels = pd.read_csv('data/dengue_labels_train.csv')\n",
    "rawfeats['total_cases'] = rawlabels['total_cases']\n",
    "print(rawfeats.shape)\n",
    "\n",
    "#Test Data\n",
    "testfeats = pd.read_csv('data/dengue_features_test.csv')\n",
    "print(testfeats.shape)"
   ]
  },
  {
   "cell_type": "markdown",
   "metadata": {},
   "source": [
    "## Cleaning and Feature Engineering"
   ]
  },
  {
   "cell_type": "code",
   "execution_count": 3,
   "metadata": {},
   "outputs": [],
   "source": [
    "#Degrade outliers (see eda.ipynb for details)\n",
    "sj = rawfeats[rawfeats.city=='sj'].copy()\n",
    "sjtest = testfeats[testfeats.city=='sj'].copy()\n",
    "iq = rawfeats[rawfeats.city=='iq'].copy()\n",
    "iqtest = testfeats[testfeats.city=='iq'].copy()\n",
    "to_trim = ['ndvi_ne', 'ndvi_nw',\n",
    "       'ndvi_se', 'ndvi_sw', 'precipitation_amt_mm', 'reanalysis_air_temp_k',\n",
    "       'reanalysis_avg_temp_k', 'reanalysis_dew_point_temp_k',\n",
    "       'reanalysis_max_air_temp_k', 'reanalysis_min_air_temp_k',\n",
    "       'reanalysis_precip_amt_kg_per_m2',\n",
    "       'reanalysis_relative_humidity_percent', 'reanalysis_sat_precip_amt_mm',\n",
    "       'reanalysis_specific_humidity_g_per_kg', 'reanalysis_tdtr_k',\n",
    "       'station_avg_temp_c', 'station_diur_temp_rng_c', 'station_max_temp_c',\n",
    "       'station_min_temp_c', 'station_precip_mm']\n",
    "            \n",
    "for v in to_trim:\n",
    "    sj.loc[:,v] = [min(x, sjtest[v].max()) for x in sj[v]]\n",
    "    sj.loc[:,v] = [max(x, sjtest[v].min()) for x in sj[v]]\n",
    "    iq.loc[:,v] = [min(x, iqtest[v].max()) for x in iq[v]]\n",
    "    iq.loc[:,v] = [max(x, iqtest[v].min()) for x in iq[v]]"
   ]
  },
  {
   "cell_type": "code",
   "execution_count": 4,
   "metadata": {},
   "outputs": [
    {
     "data": {
      "text/plain": [
       "(1456, 25)"
      ]
     },
     "execution_count": 4,
     "metadata": {},
     "output_type": "execute_result"
    }
   ],
   "source": [
    "rawfeats = pd.concat([sj,iq])\n",
    "rawfeats.shape"
   ]
  },
  {
   "cell_type": "markdown",
   "metadata": {},
   "source": [
    "# San Juan\n",
    "*See the [EDA](https://github.com/conditg/deng-ai/blob/master/eda.ipynb) and [SanJuan](https://github.com/conditg/deng-ai/blob/master/SanJuan.ipynb) notebooks for further explanations*"
   ]
  },
  {
   "cell_type": "code",
   "execution_count": 5,
   "metadata": {},
   "outputs": [
    {
     "name": "stdout",
     "output_type": "stream",
     "text": [
      "(936, 25)\n"
     ]
    }
   ],
   "source": [
    "sj = rawfeats[rawfeats.city=='sj'].copy()\n",
    "print(sj.shape)"
   ]
  },
  {
   "cell_type": "code",
   "execution_count": 6,
   "metadata": {},
   "outputs": [],
   "source": [
    "def process_SJ(rawfeats, train=True):\n",
    "    '''Returns a San Juan dataset ready for training or prediction'''\n",
    "    #Fix Week Numbers \n",
    "    if train:\n",
    "        rawfeats.loc[:,'weekofyear_fixed'] = np.where(rawfeats.year==1993,\n",
    "                                                    rawfeats.weekofyear+1, rawfeats.weekofyear)\n",
    "        for year in [1994,1995,1999,2000,2005,2006]:\n",
    "            rawfeats.loc[:,'weekofyear_fixed'] = np.where(rawfeats.year==year,\n",
    "                                                    rawfeats.weekofyear_fixed+1, rawfeats.weekofyear_fixed)\n",
    "        rawfeats.loc[:,'weekofyear'] = np.where(rawfeats.weekofyear_fixed>52,\n",
    "                                                    1, rawfeats.weekofyear_fixed)\n",
    "        \n",
    "    else:\n",
    "        rawfeats.loc[:,'weekofyear_fixed'] = np.where(rawfeats.year==2010,\n",
    "                                                    rawfeats.weekofyear+1, rawfeats.weekofyear) \n",
    "        for year in [2011,2012]:\n",
    "            rawfeats.loc[:,'weekofyear_fixed'] = np.where(rawfeats.year==year,\n",
    "                                                    rawfeats.weekofyear_fixed+1, rawfeats.weekofyear_fixed)\n",
    "        rawfeats.loc[:,'weekofyear'] = np.where(rawfeats.weekofyear_fixed>52,\n",
    "                                                    1, rawfeats.weekofyear_fixed)\n",
    "    \n",
    "    #Fill nas with interpolation\n",
    "    feats = rawfeats.interpolate(method='linear')\n",
    "    #Scale then average temperature readings \n",
    "    tempscols_to_average = feats.loc[:,['reanalysis_max_air_temp_k', 'station_avg_temp_c',\n",
    "       'reanalysis_avg_temp_k', 'reanalysis_min_air_temp_k',\n",
    "       'station_min_temp_c', 'reanalysis_dew_point_temp_k',\n",
    "       'reanalysis_air_temp_k']]\n",
    "    scaled_temps = pd.DataFrame(MinMaxScaler().fit_transform(tempscols_to_average), \n",
    "                            columns=tempscols_to_average.columns)\n",
    "    feats.loc[:,'temps_mean'] = scaled_temps.mean(axis=1)\n",
    "    #Boolean season variables\n",
    "    cutoffs = [11, 30]\n",
    "    feats['slowdown_season'] = np.where((feats.weekofyear<cutoffs[0]), 1, 0)\n",
    "\n",
    "    feats['lull_season'] = np.where((feats.weekofyear>=cutoffs[0]) &\n",
    "                               (feats.weekofyear<cutoffs[1]), 1, 0)\n",
    "    feats['rampup_season'] = np.where((feats.weekofyear>=cutoffs[1]), 1, 0)\n",
    "    #drop unneeded columns\n",
    "    keep = ['total_cases','slowdown_season', 'lull_season', 'rampup_season',\n",
    "            'station_max_temp_c','temps_mean', 'reanalysis_relative_humidity_percent',\n",
    "       'reanalysis_specific_humidity_g_per_kg','reanalysis_precip_amt_kg_per_m2']\n",
    "    for col in feats.columns:\n",
    "        if col not in keep:\n",
    "            feats = feats.drop(col, axis=1)\n",
    "    #add shifted feats, 3 weeks\n",
    "    to_shift = ['station_max_temp_c', 'temps_mean','reanalysis_relative_humidity_percent',\n",
    "       'reanalysis_specific_humidity_g_per_kg','reanalysis_precip_amt_kg_per_m2'] \n",
    "    for i in to_shift:\n",
    "        feats[i+'_1lag'] = feats[i].shift(-1)\n",
    "        feats[i+'_2lag'] = feats[i].shift(-2)\n",
    "        feats[i+'_3lag'] = feats[i].shift(-3)\n",
    "    feats = feats.fillna(method='ffill')\n",
    "    return feats\n"
   ]
  },
  {
   "cell_type": "code",
   "execution_count": 7,
   "metadata": {},
   "outputs": [
    {
     "data": {
      "text/plain": [
       "(936, 24)"
      ]
     },
     "execution_count": 7,
     "metadata": {},
     "output_type": "execute_result"
    }
   ],
   "source": [
    "sj = process_SJ(sj)\n",
    "sj.shape"
   ]
  },
  {
   "cell_type": "code",
   "execution_count": 8,
   "metadata": {},
   "outputs": [
    {
     "name": "stdout",
     "output_type": "stream",
     "text": [
      "(655, 23)\n",
      "(281, 23)\n"
     ]
    }
   ],
   "source": [
    "#Split\n",
    "sj_X = sj.drop(['total_cases'], axis=1)\n",
    "sj_y = sj.total_cases\n",
    "\n",
    "X_train_sj, X_test_sj, y_train_sj, y_test_sj = train_test_split(\n",
    "    sj_X, sj_y, test_size=0.3)\n",
    "print(X_train_sj.shape)\n",
    "print(X_test_sj.shape)"
   ]
  },
  {
   "cell_type": "markdown",
   "metadata": {},
   "source": [
    "# Iquitos\n",
    "*See the [EDA](https://github.com/conditg/deng-ai/blob/master/eda.ipynb) and [Iquitos](https://github.com/conditg/deng-ai/blob/master/Iquitos.ipynb) notebooks for further explanations*"
   ]
  },
  {
   "cell_type": "code",
   "execution_count": 9,
   "metadata": {},
   "outputs": [
    {
     "name": "stdout",
     "output_type": "stream",
     "text": [
      "(520, 25)\n"
     ]
    }
   ],
   "source": [
    "iq = rawfeats[rawfeats.city=='iq'].copy()\n",
    "print(iq.shape)"
   ]
  },
  {
   "cell_type": "code",
   "execution_count": 10,
   "metadata": {},
   "outputs": [],
   "source": [
    "def process_IQ(rawfeats, train=True):\n",
    "    '''Returns a dataset ready for training or prediction'''\n",
    "    #Fix Week Numbers\n",
    "    if train:\n",
    "        rawfeats.loc[:,'weekofyear_fixed'] = np.where(rawfeats.year==2005,\n",
    "                                                      rawfeats.weekofyear+1, rawfeats.weekofyear)\n",
    "        rawfeats.loc[:,'weekofyear_fixed'] = np.where(rawfeats.year==2006,\n",
    "                                                      rawfeats.weekofyear_fixed+1, rawfeats.weekofyear_fixed)\n",
    "        rawfeats.loc[:,'weekofyear_fixed'] = np.where(rawfeats.year==2010,\n",
    "                                                      rawfeats.weekofyear_fixed+1, rawfeats.weekofyear_fixed)\n",
    "        rawfeats.loc[:,'weekofyear'] = np.where(rawfeats.weekofyear_fixed>52,\n",
    "                                                      1, rawfeats.weekofyear_fixed)\n",
    "    else:\n",
    "        rawfeats.loc[:,'weekofyear_fixed'] = np.where(rawfeats.year==2011,\n",
    "                                                      rawfeats.weekofyear+1, rawfeats.weekofyear)\n",
    "        rawfeats.loc[:,'weekofyear_fixed'] = np.where(rawfeats.year==2012,\n",
    "                                                      rawfeats.weekofyear_fixed+1, rawfeats.weekofyear_fixed)\n",
    "        rawfeats.loc[:,'weekofyear'] = np.where(rawfeats.weekofyear_fixed>52,\n",
    "                                                      1, rawfeats.weekofyear_fixed)\n",
    "\n",
    "    \n",
    "    #Fill nas with interpolation\n",
    "    feats = rawfeats.interpolate(method='linear')\n",
    "    #season features\n",
    "    cutoffs = [12, 24, 36]\n",
    "    feats['fall'] = np.where((feats.weekofyear<cutoffs[0]), 1, 0)\n",
    "\n",
    "    feats['winter'] = np.where((feats.weekofyear>=cutoffs[0]) &\n",
    "                               (feats.weekofyear<cutoffs[1]), 1, 0)\n",
    "    feats['spring'] = np.where((feats.weekofyear>=cutoffs[1]) &\n",
    "                               (feats.weekofyear<cutoffs[2]), 1, 0)\n",
    "    feats['summer'] = np.where((feats.weekofyear>=cutoffs[2]), 1, 0)\n",
    "    #drop unneeded columns\n",
    "    keep = ['total_cases',\n",
    "       'spring', 'summer', 'fall', 'winter', 'station_avg_temp_c',\n",
    "       'reanalysis_min_air_temp_k','station_min_temp_c',\n",
    "       'reanalysis_dew_point_temp_k','reanalysis_tdtr_k',\n",
    "       'reanalysis_specific_humidity_g_per_kg',\n",
    "       'precipitation_amt_mm']\n",
    "    \n",
    "    for col in feats.columns:\n",
    "        if col not in keep:\n",
    "            feats = feats.drop(col, axis=1)\n",
    "    \n",
    "    #add shifted feats, 3 weeks\n",
    "    to_shift = ['station_avg_temp_c','reanalysis_min_air_temp_k', 'station_min_temp_c',\n",
    "       'reanalysis_dew_point_temp_k', 'reanalysis_tdtr_k', \n",
    "       'reanalysis_specific_humidity_g_per_kg','precipitation_amt_mm']\n",
    "    \n",
    "    for i in to_shift:\n",
    "        feats[i+'_1lag'] = feats[i].shift(-1)\n",
    "        feats[i+'_2lag'] = feats[i].shift(-2)\n",
    "        feats[i+'_3lag'] = feats[i].shift(-3)\n",
    "    feats = feats.fillna(method='ffill')\n",
    "    return feats"
   ]
  },
  {
   "cell_type": "code",
   "execution_count": 11,
   "metadata": {},
   "outputs": [
    {
     "data": {
      "text/plain": [
       "(520, 33)"
      ]
     },
     "execution_count": 11,
     "metadata": {},
     "output_type": "execute_result"
    }
   ],
   "source": [
    "iq = process_IQ(iq)\n",
    "iq.shape"
   ]
  },
  {
   "cell_type": "code",
   "execution_count": 12,
   "metadata": {},
   "outputs": [
    {
     "name": "stdout",
     "output_type": "stream",
     "text": [
      "(364, 32)\n",
      "(156, 32)\n"
     ]
    }
   ],
   "source": [
    "iq_X = iq.drop(['total_cases'], axis=1)\n",
    "iq_y = iq.total_cases\n",
    "\n",
    "X_train_iq, X_test_iq, y_train_iq, y_test_iq = train_test_split(\n",
    "    iq_X, iq_y, test_size=0.3)\n",
    "print(X_train_iq.shape)\n",
    "print(X_test_iq.shape)\n"
   ]
  },
  {
   "cell_type": "markdown",
   "metadata": {},
   "source": [
    "\n",
    "### Grid Searched Random Forest Submission"
   ]
  },
  {
   "cell_type": "code",
   "execution_count": 13,
   "metadata": {},
   "outputs": [],
   "source": [
    "#Define the parameters we want to cycle through\n",
    "param_grid = {\n",
    "    'max_depth': [5,10,20,35,50],\n",
    "    'max_features': [2, 5, 'auto'],\n",
    "    'min_samples_leaf': [2, 3, 4],\n",
    "    'min_samples_split': [2, 3, 4],\n",
    "    'n_estimators': [100, 200, 300],\n",
    "}"
   ]
  },
  {
   "cell_type": "code",
   "execution_count": 14,
   "metadata": {},
   "outputs": [],
   "source": [
    "# start = time.time()\n",
    "# rfr = RandomForestRegressor(criterion='mae')\n",
    "# gs = GridSearchCV(estimator=rfr, param_grid=param_grid,cv=3, n_jobs=-1)\n",
    "\n",
    "# #Fit the grid search to data for SJ (Time Consuming)\n",
    "# gs.fit(X_train_sj, y_train_sj)\n",
    "# print(time.time() - start)\n",
    "# #Let's see what came out best:\n",
    "# sj_rf_params = gs.best_params_\n",
    "# sj_rf_params"
   ]
  },
  {
   "cell_type": "code",
   "execution_count": 15,
   "metadata": {},
   "outputs": [],
   "source": [
    "#Copy and pasted best param to prevent unnecessary rerunning of Grid Search\n",
    "sj_rf_params = {'max_depth': 35,\n",
    " 'max_features': 5,\n",
    " 'min_samples_leaf': 3,\n",
    " 'min_samples_split': 2,\n",
    " 'n_estimators': 100}"
   ]
  },
  {
   "cell_type": "code",
   "execution_count": 16,
   "metadata": {},
   "outputs": [],
   "source": [
    "# start = time.time()\n",
    "# rfr = RandomForestRegressor(criterion='mae')\n",
    "# gs = GridSearchCV(estimator=rfr, param_grid=param_grid,cv=3, n_jobs=-1)\n",
    "\n",
    "# #Fit the grid search to data for IQ (Time Consuming)\n",
    "# gs.fit(X_train_iq, y_train_iq)\n",
    "# print(time.time() - start)\n",
    "# #Let's see what came out best:\n",
    "# iq_rf_params = gs.best_params_\n",
    "# iq_rf_params"
   ]
  },
  {
   "cell_type": "code",
   "execution_count": 17,
   "metadata": {},
   "outputs": [],
   "source": [
    "iq_rf_params = {'max_depth': 10,\n",
    " 'max_features': 2,\n",
    " 'min_samples_leaf': 2,\n",
    " 'min_samples_split': 2,\n",
    " 'n_estimators': 300}"
   ]
  },
  {
   "cell_type": "code",
   "execution_count": 18,
   "metadata": {},
   "outputs": [],
   "source": [
    "sj_rfr = RandomForestRegressor(**sj_rf_params, criterion='mae')\n",
    "iq_rfr = RandomForestRegressor(**iq_rf_params, criterion='mae')"
   ]
  },
  {
   "cell_type": "code",
   "execution_count": 19,
   "metadata": {},
   "outputs": [
    {
     "name": "stdout",
     "output_type": "stream",
     "text": [
      "Training Complete!\n"
     ]
    }
   ],
   "source": [
    "sj_rfr.fit(sj_X, sj_y)\n",
    "\n",
    "iq_rfr.fit(iq_X, iq_y)\n",
    "print('Training Complete!')"
   ]
  },
  {
   "cell_type": "markdown",
   "metadata": {},
   "source": [
    "### Test Data processing - Random Forest"
   ]
  },
  {
   "cell_type": "code",
   "execution_count": 20,
   "metadata": {},
   "outputs": [],
   "source": [
    "testdata = pd.read_csv('data/dengue_features_test.csv')"
   ]
  },
  {
   "cell_type": "code",
   "execution_count": 21,
   "metadata": {},
   "outputs": [
    {
     "data": {
      "text/plain": [
       "(260, 23)"
      ]
     },
     "execution_count": 21,
     "metadata": {},
     "output_type": "execute_result"
    }
   ],
   "source": [
    "sj_test = testdata[testdata.city=='sj'].copy()\n",
    "sj_test = process_SJ(sj_test, train=False)\n",
    "#Should be 23 feat columns\n",
    "sj_test.shape"
   ]
  },
  {
   "cell_type": "code",
   "execution_count": 22,
   "metadata": {},
   "outputs": [
    {
     "data": {
      "text/plain": [
       "(156, 32)"
      ]
     },
     "execution_count": 22,
     "metadata": {},
     "output_type": "execute_result"
    }
   ],
   "source": [
    "iq_test = testdata[testdata.city=='iq'].copy()\n",
    "iq_test = process_IQ(iq_test)\n",
    "#Should be 32 feat columns\n",
    "iq_test.shape"
   ]
  },
  {
   "cell_type": "code",
   "execution_count": 23,
   "metadata": {},
   "outputs": [],
   "source": [
    "sj_pred = sj_rfr.predict(sj_test).astype(int)\n",
    "iq_pred = iq_rfr.predict(iq_test).astype(int)"
   ]
  },
  {
   "cell_type": "code",
   "execution_count": 24,
   "metadata": {},
   "outputs": [
    {
     "name": "stdout",
     "output_type": "stream",
     "text": [
      "8\n",
      "1\n"
     ]
    }
   ],
   "source": [
    "#Confirm no negative predictions\n",
    "print(np.min(sj_pred))\n",
    "print(np.min(iq_pred))"
   ]
  },
  {
   "cell_type": "markdown",
   "metadata": {},
   "source": [
    "### Test Data processing - Peak Boosting"
   ]
  },
  {
   "cell_type": "markdown",
   "metadata": {},
   "source": [
    "This process boosts the high predictions without significant changes to the lower ones, using a the integral of a scaled derivative."
   ]
  },
  {
   "cell_type": "code",
   "execution_count": 25,
   "metadata": {},
   "outputs": [],
   "source": [
    "def peakBoost(array, scalar, mixed=None):\n",
    "    #Take derivative of array\n",
    "    deriv = np.gradient(array)\n",
    "    #Scale derivative\n",
    "    new_deriv = deriv * scalar\n",
    "    #Integrate the new derivative starting from 0\n",
    "    integral = cumtrapz(new_deriv, initial=0)\n",
    "    length = range(len(array))\n",
    "    #Add intercept to match initial range\n",
    "    boosted = [x+array[0] for x in integral]\n",
    "    \n",
    "    #Option ways to put floors on the output\n",
    "    if mixed == 'max':\n",
    "        out = [max(boosted[i], array[i]) for i in length]\n",
    "    elif mixed == 'pos':\n",
    "        out = [max(boosted[i], 0) for i in length]\n",
    "    else:\n",
    "        out = boosted\n",
    "    return out"
   ]
  },
  {
   "cell_type": "code",
   "execution_count": 26,
   "metadata": {},
   "outputs": [],
   "source": [
    "sj_boost = peakBoost(sj_pred, 1.6, 'max')\n",
    "iq_boost = peakBoost(iq_pred, 1.1, 'pos')"
   ]
  },
  {
   "cell_type": "code",
   "execution_count": 27,
   "metadata": {},
   "outputs": [
    {
     "data": {
      "image/png": "[encoded data removed]",
      "text/plain": [
       "<Figure size 1080x360 with 2 Axes>"
      ]
     },
     "metadata": {},
     "output_type": "display_data"
    }
   ],
   "source": [
    "plt.figure(figsize=[15,5])\n",
    "plt.subplot(121)\n",
    "plt.plot(sj_pred, label='original')\n",
    "plt.plot(sj_boost, label='boosted')\n",
    "plt.legend()\n",
    "plt.subplot(122)\n",
    "plt.plot(iq_pred, label='original')\n",
    "plt.plot(iq_boost, label='boosted')\n",
    "plt.legend()\n",
    "plt.show()"
   ]
  },
  {
   "cell_type": "code",
   "execution_count": 28,
   "metadata": {},
   "outputs": [],
   "source": [
    "submission = pd.read_csv('data/submission_format.csv',\n",
    "                            index_col=[0, 1, 2])"
   ]
  },
  {
   "cell_type": "code",
   "execution_count": 29,
   "metadata": {},
   "outputs": [],
   "source": [
    "submission.total_cases = np.concatenate([sj_pred, iq_pred])\n",
    "submission.to_csv(\"submissions/PeakBoosted_RFR.csv\")"
   ]
  }
 ],
 "metadata": {
  "kernelspec": {
   "display_name": "Python 3",
   "language": "python",
   "name": "python3"
  },
  "language_info": {
   "codemirror_mode": {
    "name": "ipython",
    "version": 3
   },
   "file_extension": ".py",
   "mimetype": "text/x-python",
   "name": "python",
   "nbconvert_exporter": "python",
   "pygments_lexer": "ipython3",
   "version": "3.7.0"
  }
 },
 "nbformat": 4,
 "nbformat_minor": 2
}
